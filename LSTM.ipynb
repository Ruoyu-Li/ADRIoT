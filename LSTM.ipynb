{
 "cells": [
  {
   "cell_type": "code",
   "execution_count": 2,
   "metadata": {},
   "outputs": [],
   "source": [
    "import numpy as np\n",
    "import pandas as pd\n",
    "import random\n",
    "from copy import deepcopy\n",
    "from keras.models import Sequential\n",
    "from keras.layers.convolutional import Conv1D\n",
    "from keras.layers.convolutional import MaxPooling1D\n",
    "from keras.layers import LSTM\n",
    "from keras.layers import Dense\n",
    "from keras.layers import Dropout\n",
    "from keras.utils import np_utils\n",
    "from sklearn.preprocessing import LabelEncoder\n",
    "import os\n",
    "np.random.seed(7)"
   ]
  },
  {
   "cell_type": "code",
   "execution_count": 15,
   "metadata": {},
   "outputs": [],
   "source": [
    "# create sequence dataset\n",
    "# def create_dataset(dataset, label, seq_len=50):\n",
    "#     X, Y = [], []\n",
    "#     for i in range(len(dataset) - seq_len + 1):\n",
    "#         a = dataset[i:(i + seq_len)]\n",
    "#         X.append(a)\n",
    "#         Y.append(label)\n",
    "#     return np.array(X), np.array(Y)\n",
    "def create_dataset(dataset, label, seq_len=100):\n",
    "    X, Y = [], []\n",
    "    num = int(len(dataset) / seq_len)\n",
    "    for i in range(num):\n",
    "        a = dataset[i * num:(i * num + seq_len)]\n",
    "        X.append(a)\n",
    "        Y.append(label)\n",
    "    return np.array(X), np.array(Y)"
   ]
  },
  {
   "cell_type": "code",
   "execution_count": null,
   "metadata": {},
   "outputs": [],
   "source": [
    "# generator\n",
    "# def generate_batch_data(batch_size, seq_len):\n",
    "#     for _, _, files in os.walk('malicious_train'):\n",
    "#         for filename in files:\n",
    "#             ip, label = filename.split('_')\n",
    "#             df = pd.read_csv(f\"malicious_train/{filename}\", header=None)\n",
    "#             dataset = []            "
   ]
  },
  {
   "cell_type": "code",
   "execution_count": 3,
   "metadata": {
    "scrolled": true
   },
   "outputs": [],
   "source": [
    "# read csv data\n",
    "df_irc = pd.read_csv('malicious_train/147.32.84.180.csv', header=None)\n",
    "df_http = pd.read_csv('malicious_train/147.32.84.140.csv', header=None)\n",
    "df_p2p = pd.read_csv('malicious_train/192.168.4.118.csv', header=None)"
   ]
  },
  {
   "cell_type": "code",
   "execution_count": 4,
   "metadata": {},
   "outputs": [
    {
     "data": {
      "text/plain": [
       "((46713, 1500), (6873, 1500), (11370, 1500))"
      ]
     },
     "execution_count": 4,
     "metadata": {},
     "output_type": "execute_result"
    }
   ],
   "source": [
    "# dataset_benign, dataset_malicious = df_benign.values, df_malicious.values\n",
    "# dataset_benign.shape, df_malicious.shape\n",
    "dataset_irc, dataset_http, dataset_p2p = df_irc.values, df_http.values, df_p2p.values\n",
    "dataset_irc.shape, dataset_http.shape, dataset_p2p.shape"
   ]
  },
  {
   "cell_type": "code",
   "execution_count": 38,
   "metadata": {
    "scrolled": true
   },
   "outputs": [
    {
     "data": {
      "text/plain": [
       "array([[0., 1., 0.],\n",
       "       [1., 0., 0.],\n",
       "       [0., 0., 1.]], dtype=float32)"
      ]
     },
     "execution_count": 38,
     "metadata": {},
     "output_type": "execute_result"
    }
   ],
   "source": [
    "Y = ['IRC', 'HTTP', 'P2P']\n",
    "encoder = LabelEncoder()\n",
    "encoder.fit(Y)\n",
    "encoded_Y = encoder.transform(Y)\n",
    "# convert integers to dummy variables (i.e. one hot encoded)\n",
    "labels = np_utils.to_categorical(encoded_Y)\n",
    "labels"
   ]
  },
  {
   "cell_type": "code",
   "execution_count": 40,
   "metadata": {
    "scrolled": true
   },
   "outputs": [
    {
     "name": "stdout",
     "output_type": "stream",
     "text": [
      "['IRC', 'HTTP']\n",
      "IRC\n",
      "172.16.253.240.csv\n",
      "X shape: (37, 100, 500)\n",
      "(37, 100, 500)\n",
      "172.16.253.130.csv\n",
      "X shape: (42, 100, 500)\n",
      "(79, 100, 500)\n",
      "172.16.253.131.csv\n",
      "X shape: (31, 100, 500)\n",
      "(110, 100, 500)\n",
      "147.32.84.150.csv\n",
      "X shape: (45, 100, 500)\n",
      "(155, 100, 500)\n",
      "147.32.84.180.csv\n",
      "X shape: (467,)\n"
     ]
    },
    {
     "ename": "ValueError",
     "evalue": "all the input arrays must have same number of dimensions",
     "output_type": "error",
     "traceback": [
      "\u001b[0;31m---------------------------------------------------------------------------\u001b[0m",
      "\u001b[0;31mValueError\u001b[0m                                Traceback (most recent call last)",
      "\u001b[0;32m<ipython-input-40-3c616b6d123f>\u001b[0m in \u001b[0;36m<module>\u001b[0;34m\u001b[0m\n\u001b[1;32m     19\u001b[0m                 \u001b[0mflag\u001b[0m \u001b[0;34m=\u001b[0m \u001b[0;36m1\u001b[0m\u001b[0;34m\u001b[0m\u001b[0m\n\u001b[1;32m     20\u001b[0m             \u001b[0;32melse\u001b[0m\u001b[0;34m:\u001b[0m\u001b[0;34m\u001b[0m\u001b[0m\n\u001b[0;32m---> 21\u001b[0;31m                 \u001b[0mX_train\u001b[0m\u001b[0;34m,\u001b[0m \u001b[0mY_train\u001b[0m \u001b[0;34m=\u001b[0m \u001b[0mnp\u001b[0m\u001b[0;34m.\u001b[0m\u001b[0mconcatenate\u001b[0m\u001b[0;34m(\u001b[0m\u001b[0;34m(\u001b[0m\u001b[0mX_train\u001b[0m\u001b[0;34m,\u001b[0m \u001b[0mX\u001b[0m\u001b[0;34m)\u001b[0m\u001b[0;34m)\u001b[0m\u001b[0;34m,\u001b[0m \u001b[0mnp\u001b[0m\u001b[0;34m.\u001b[0m\u001b[0mconcatenate\u001b[0m\u001b[0;34m(\u001b[0m\u001b[0;34m(\u001b[0m\u001b[0mY_train\u001b[0m\u001b[0;34m,\u001b[0m \u001b[0mY\u001b[0m\u001b[0;34m)\u001b[0m\u001b[0;34m)\u001b[0m\u001b[0;34m\u001b[0m\u001b[0m\n\u001b[0m\u001b[1;32m     22\u001b[0m             \u001b[0mprint\u001b[0m\u001b[0;34m(\u001b[0m\u001b[0mX_train\u001b[0m\u001b[0;34m.\u001b[0m\u001b[0mshape\u001b[0m\u001b[0;34m)\u001b[0m\u001b[0;34m\u001b[0m\u001b[0m\n\u001b[1;32m     23\u001b[0m \u001b[0;34m\u001b[0m\u001b[0m\n",
      "\u001b[0;31mValueError\u001b[0m: all the input arrays must have same number of dimensions"
     ]
    }
   ],
   "source": [
    "# read csv\n",
    "flag = 0\n",
    "dir_list = os.listdir('test')\n",
    "dir_list.remove('.DS_Store')\n",
    "print(dir_list)\n",
    "for folder in dir_list:\n",
    "    print(folder)\n",
    "    for _, _, files in os.walk(f\"test/{folder}\"):\n",
    "        for filename in files:\n",
    "            if filename == '.DS_Store':\n",
    "                continue\n",
    "            print(filename)\n",
    "            df = pd.read_csv(f\"test/{folder}/{filename}\", header=None)\n",
    "            dataset = df.values\n",
    "            X, Y = create_dataset(dataset, labels[dir_list.index(folder)])\n",
    "            print(\"X shape: \" + str(X.shape))\n",
    "            if flag == 0:\n",
    "                X_train, Y_train = X, Y\n",
    "                flag = 1\n",
    "            else:\n",
    "                X_train, Y_train = np.concatenate((X_train, X)), np.concatenate((Y_train, Y))\n",
    "            print(X_train.shape)\n",
    "        "
   ]
  },
  {
   "cell_type": "code",
   "execution_count": 6,
   "metadata": {},
   "outputs": [
    {
     "data": {
      "text/plain": [
       "((64809, 50, 1500), (64809, 3))"
      ]
     },
     "execution_count": 6,
     "metadata": {},
     "output_type": "execute_result"
    }
   ],
   "source": [
    "# create and concatenate benign and malicious dataset\n",
    "# X_train, Y_train = create_dataset(dataset_benign_train, 0)\n",
    "# X_test, Y_test = create_dataset(dataset_benign_test, 0)\n",
    "# X_tmp_train, Y_tmp_train = create_dataset(dataset_malicious_train, 1)\n",
    "# X_tmp_test, Y_tmp_test = create_dataset(dataset_malicious_test, 1)\n",
    "# X_train, Y_train = np.concatenate((X_train, X_tmp_train)), np.concatenate((Y_train, Y_tmp_train))\n",
    "# X_test, Y_test = np.concatenate((X_test, X_tmp_test)), np.concatenate((Y_test, Y_tmp_test))\n",
    "# X_train.shape, X_test.shape\n",
    "\n",
    "X_irc, Y_irc = create_dataset(dataset_irc, Y[0])\n",
    "X_http, Y_http = create_dataset(dataset_http, Y[1])\n",
    "X_p2p, Y_p2p = create_dataset(dataset_p2p, Y[2])\n",
    "X_train, Y_train = np.concatenate((X_irc, X_http, X_p2p)), np.concatenate((Y_irc, Y_http, Y_p2p))\n",
    "X_train.shape, Y_train.shape"
   ]
  },
  {
   "cell_type": "code",
   "execution_count": 8,
   "metadata": {
    "scrolled": true
   },
   "outputs": [
    {
     "name": "stdout",
     "output_type": "stream",
     "text": [
      "_________________________________________________________________\n",
      "Layer (type)                 Output Shape              Param #   \n",
      "=================================================================\n",
      "conv1d_2 (Conv1D)            (None, 48, 64)            288064    \n",
      "_________________________________________________________________\n",
      "dropout_3 (Dropout)          (None, 48, 64)            0         \n",
      "_________________________________________________________________\n",
      "max_pooling1d_2 (MaxPooling1 (None, 24, 64)            0         \n",
      "_________________________________________________________________\n",
      "lstm_2 (LSTM)                (None, 32)                12416     \n",
      "_________________________________________________________________\n",
      "dropout_4 (Dropout)          (None, 32)                0         \n",
      "_________________________________________________________________\n",
      "dense_2 (Dense)              (None, 3)                 99        \n",
      "=================================================================\n",
      "Total params: 300,579\n",
      "Trainable params: 300,579\n",
      "Non-trainable params: 0\n",
      "_________________________________________________________________\n"
     ]
    }
   ],
   "source": [
    "# create model\n",
    "model = Sequential()\n",
    "model.add(Conv1D(filters=64, kernel_size=3, activation='relu', input_shape=(X_train.shape[1], X_train.shape[2])))\n",
    "model.add(Dropout(0.2))\n",
    "model.add(MaxPooling1D(pool_size=2))\n",
    "model.add(LSTM(32))\n",
    "model.add(Dropout(0.2))\n",
    "model.add(Dense(3, activation='softmax'))\n",
    "model.compile(loss='categorical_crossentropy', optimizer='adam', metrics=['accuracy'])\n",
    "model.summary()"
   ]
  },
  {
   "cell_type": "code",
   "execution_count": 9,
   "metadata": {
    "scrolled": true
   },
   "outputs": [
    {
     "name": "stderr",
     "output_type": "stream",
     "text": [
      "W0722 19:18:20.054501 4560844224 deprecation.py:323] From /Users/lee/venv3/lib/python3.7/site-packages/tensorflow/python/ops/math_grad.py:1250: add_dispatch_support.<locals>.wrapper (from tensorflow.python.ops.array_ops) is deprecated and will be removed in a future version.\n",
      "Instructions for updating:\n",
      "Use tf.where in 2.0, which has the same broadcast rule as np.where\n"
     ]
    },
    {
     "name": "stdout",
     "output_type": "stream",
     "text": [
      "Epoch 1/1\n",
      "64809/64809 [==============================] - 465s 7ms/step - loss: 0.4137 - acc: 0.8407\n"
     ]
    },
    {
     "data": {
      "text/plain": [
       "<keras.callbacks.History at 0x136086198>"
      ]
     },
     "execution_count": 9,
     "metadata": {},
     "output_type": "execute_result"
    }
   ],
   "source": [
    "# fit network\n",
    "model.fit(X_train, Y_train, epochs=1, batch_size=100, verbose=True)"
   ]
  },
  {
   "cell_type": "code",
   "execution_count": 10,
   "metadata": {},
   "outputs": [],
   "source": [
    "df_eval = pd.read_csv('malicious_test/147.32.84.160.csv')"
   ]
  },
  {
   "cell_type": "code",
   "execution_count": null,
   "metadata": {},
   "outputs": [],
   "source": [
    "dataset_eval = df_eval.values\n",
    "X_eval, Y_eval = create_dataset(dataset_eval, Y[1])\n",
    "X_eval.shape, Y_eval.shape"
   ]
  },
  {
   "cell_type": "code",
   "execution_count": 30,
   "metadata": {
    "scrolled": true
   },
   "outputs": [
    {
     "name": "stdout",
     "output_type": "stream",
     "text": [
      "1600/1600 [==============================] - 1s 651us/step\n"
     ]
    },
    {
     "data": {
      "text/plain": [
       "0.4243750001769513"
      ]
     },
     "execution_count": 30,
     "metadata": {},
     "output_type": "execute_result"
    }
   ],
   "source": [
    "# evaluation\n",
    "_, accur = model.evaluate(X_eval, Y_eval, batch_size=100)\n",
    "accur"
   ]
  },
  {
   "cell_type": "code",
   "execution_count": null,
   "metadata": {},
   "outputs": [],
   "source": []
  }
 ],
 "metadata": {
  "kernelspec": {
   "display_name": "venv3",
   "language": "python",
   "name": "venv3"
  },
  "language_info": {
   "codemirror_mode": {
    "name": "ipython",
    "version": 3
   },
   "file_extension": ".py",
   "mimetype": "text/x-python",
   "name": "python",
   "nbconvert_exporter": "python",
   "pygments_lexer": "ipython3",
   "version": "3.7.0"
  }
 },
 "nbformat": 4,
 "nbformat_minor": 2
}
